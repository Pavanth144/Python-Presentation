{
  "cells": [
    {
      "cell_type": "markdown",
      "metadata": {
        "id": "view-in-github",
        "colab_type": "text"
      },
      "source": [
        "<a href=\"https://colab.research.google.com/github/Pavanth144/githubtest/blob/main/Python_Presentation.ipynb\" target=\"_parent\"><img src=\"https://colab.research.google.com/assets/colab-badge.svg\" alt=\"Open In Colab\"/></a>"
      ]
    },
    {
      "cell_type": "markdown",
      "id": "f908fc13",
      "metadata": {
        "id": "f908fc13"
      },
      "source": [
        "# Python                                                               "
      ]
    },
    {
      "cell_type": "markdown",
      "id": "01af5301",
      "metadata": {
        "id": "01af5301"
      },
      "source": [
        "## Agenda:\n",
        "Introduction to Python\n",
        "\n",
        "Data Types in Python\n",
        "\n",
        "Conditional Statement\n",
        "\n",
        "Loops\n",
        "\n",
        "Functions\n",
        "\n",
        "Lambda Function\n",
        "\n",
        "List Comprehension"
      ]
    },
    {
      "cell_type": "markdown",
      "id": "d14b6549",
      "metadata": {
        "id": "d14b6549"
      },
      "source": [
        "## Introduction to Python Programming:\n",
        "\n",
        "Programming is a way for us to tell computers what to do.\n",
        "\n",
        "Python is a dynamically typed, general purpose programming language that supports an object-oriented   programming approach as well as a functional programming approach.\n",
        "\n",
        "Python is an interpreted and a high-level programming language.\n",
        "\n",
        "It was created by Guido Van Rossum in 1989.\n",
        "\n",
        "Python is used in Data Visualization to create plots and graphical representations.\n",
        "\n",
        "Python helps in Data Analytics to analyze and understand raw data for insights and trends."
      ]
    },
    {
      "cell_type": "markdown",
      "id": "b0970fb1",
      "metadata": {
        "id": "b0970fb1"
      },
      "source": [
        "## What is a Variable ?\n",
        "\n",
        "Variable is like a container that holds data.\n",
        "Creating a variable is like creating a placeholder in memory and assigning it some value.\n"
      ]
    },
    {
      "cell_type": "code",
      "execution_count": null,
      "id": "0a8cf6fe",
      "metadata": {
        "id": "0a8cf6fe",
        "outputId": "d40bcbc2-b505-4096-9d95-fa4a12203812"
      },
      "outputs": [
        {
          "name": "stdout",
          "output_type": "stream",
          "text": [
            "1\n",
            "<class 'float'>\n",
            "string\n",
            "True\n"
          ]
        }
      ],
      "source": [
        "a = 1\n",
        "ab = 1.30\n",
        "name = \"string\"\n",
        "b = True\n",
        "print(a)\n",
        "print(type(ab))\n",
        "print(name)\n",
        "print(b)"
      ]
    },
    {
      "cell_type": "markdown",
      "id": "dbbaab27",
      "metadata": {
        "id": "dbbaab27"
      },
      "source": [
        "# What is a data type ?\n",
        "\n",
        "Data type specifies the type of value a variable holds. This is required in programming to do various operations without causing an error.\n",
        "\n",
        "1. Numeric data: int, float, complex\n",
        "2. Text data: str\n",
        "3. Boolean data:\n",
        "4. Sequenced data: list, tuple\n",
        "5. Mapped data: dictionary\n",
        "\n"
      ]
    },
    {
      "cell_type": "markdown",
      "id": "a1ccd153",
      "metadata": {
        "id": "a1ccd153"
      },
      "source": [
        "# List:\n",
        "\n",
        "A list is an ordered collection of data with elements separated by a comma and enclosed within square brackets. Lists are mutable and can be modified after creation.\n"
      ]
    },
    {
      "cell_type": "code",
      "execution_count": null,
      "id": "179b4daf",
      "metadata": {
        "id": "179b4daf",
        "outputId": "b35f8966-9a39-4ac4-ed7a-9a2cd0843739"
      },
      "outputs": [
        {
          "name": "stdout",
          "output_type": "stream",
          "text": [
            "[1, 2, 3, 4, 5, 6, 7, 10, 4, 5, 5]\n",
            "[1, 2, 3, 4, 4, 5, 5, 5, 6, 7, 10]\n",
            "[10, 7, 6, 5, 5, 5, 4, 4, 3, 2, 1]\n",
            "[10, 7, 6, 5, 5, 5, 4, 4, 3, 2, 1, 8]\n",
            "[10, 10, 7, 6, 5, 5, 5, 4, 4, 3, 2, 1, 8]\n",
            "[10, 10, 6, 5, 5, 5, 4, 4, 3, 2, 1, 8]\n",
            "[10, 10, 6, 5, 5, 5, 4, 4, 3, 1, 8]\n",
            "[10, 10, 6, 5, 5, 5, 4, 4, 3, 1, 8, 1, 2, 3]\n",
            "12\n",
            "[10, 6, 5, 5, 5, 4]\n"
          ]
        }
      ],
      "source": [
        "    myList = [1,2,3,4,5,6,7,10,4, 5, 5]\n",
        "    print(myList)\n",
        "    myList.sort()\n",
        "    print(myList)\n",
        "    myList.reverse()\n",
        "    print(myList)\n",
        "    myList.append(8)\n",
        "    print(myList)\n",
        "    myList.insert(1,10)\n",
        "    print(myList)\n",
        "    myList.pop(2)\n",
        "    print(myList)\n",
        "    myList.remove(2)\n",
        "    print(myList)\n",
        "    myList.extend([1, 2, 3])\n",
        "    print(myList)\n",
        "    c = myList.index(2)\n",
        "    print(c)\n",
        "    print(myList[1:7])"
      ]
    },
    {
      "cell_type": "markdown",
      "id": "b7ce7148",
      "metadata": {
        "id": "b7ce7148"
      },
      "source": [
        "# Tuple:\n",
        "    \n",
        "A tuple is an ordered collection of data with elements separated by a comma and enclosed within parentheses. Tuples are immutable and can not be modified after creation.\n"
      ]
    },
    {
      "cell_type": "code",
      "execution_count": null,
      "id": "d9a0e88b",
      "metadata": {
        "id": "d9a0e88b",
        "outputId": "48064d4c-e26f-40ab-9c8c-284df1adcfde"
      },
      "outputs": [
        {
          "name": "stdout",
          "output_type": "stream",
          "text": [
            "(2, 4, 6, 2)\n",
            "2\n",
            "0\n",
            "4\n"
          ]
        }
      ],
      "source": [
        "myTuple = (2, 4 , 6, 2)\n",
        "print(myTuple)\n",
        "print(myTuple.count(2))\n",
        "print(myTuple.index(2))\n",
        "print(myTuple[1])\n",
        "\n",
        "# Tuple are immutable they can not be changed.\n",
        "# myTuple = (2, 4 , 6, 2)\n",
        "# myTuple[0] = 0\n"
      ]
    },
    {
      "cell_type": "markdown",
      "id": "4de3663e",
      "metadata": {
        "id": "4de3663e"
      },
      "source": [
        "# Set:\n",
        "\n",
        "A set is an unordered collection of data with elements separated by a comma and enclosed within flower brackets.\n",
        "\n",
        "Sets are immutable and can not be modified after creation and they are unindexed.\n",
        "\n",
        "Set is collection of well defined objects.\n",
        "\n",
        "1. unordered\n",
        "\n",
        "2. can not contain duplicates"
      ]
    },
    {
      "cell_type": "code",
      "execution_count": null,
      "id": "75009734",
      "metadata": {
        "id": "75009734",
        "outputId": "48960a56-c0e7-4d69-ea5c-49f3fdc1b452"
      },
      "outputs": [
        {
          "name": "stdout",
          "output_type": "stream",
          "text": [
            "{1, 2, 3, 4, 5, 7, 9}\n",
            "{2, 5}\n",
            "{1, 3, 4}\n"
          ]
        }
      ],
      "source": [
        "s1 = {1, 2, 3, 4, 5}\n",
        "s2 = {2, 5, 7, 9}\n",
        "\n",
        "print(s1.union(s2))\n",
        "\n",
        "print(s1.intersection(s2))\n",
        "\n",
        "print(s1.difference(s2))"
      ]
    },
    {
      "cell_type": "code",
      "execution_count": null,
      "id": "d6885db9",
      "metadata": {
        "id": "d6885db9",
        "outputId": "b85eb3d0-d9c0-4fd4-a45b-787246c759ce"
      },
      "outputs": [
        {
          "name": "stdout",
          "output_type": "stream",
          "text": [
            "{'ABC', 'Cat', 'Snake', 'Ball', 'Garter', 'Python'}\n"
          ]
        }
      ],
      "source": [
        "var1 = {\"ABC\", \"Ball\", \"Garter\"}\n",
        "var2 = {\"Cat\", \"Snake\", \"Python\"}\n",
        "var1.update(var2)\n",
        "print(var1)"
      ]
    },
    {
      "cell_type": "markdown",
      "id": "de0c6cbc",
      "metadata": {
        "id": "de0c6cbc"
      },
      "source": [
        "# Dictionary:\n",
        "\n",
        "Dictionaries are ordered collection of data items.\n",
        "\n",
        "They store multiple items in a single variable.\n",
        "\n",
        "Dictionary items are key-value pairs that are separated by commas and enclosed within curly brackets {}.\n"
      ]
    },
    {
      "cell_type": "code",
      "execution_count": null,
      "id": "f05ddab6",
      "metadata": {
        "id": "f05ddab6",
        "outputId": "8c672ce5-e751-4689-a41e-45481e5318f3"
      },
      "outputs": [
        {
          "name": "stdout",
          "output_type": "stream",
          "text": [
            "{'Name': 'Pavan', 'Age': 21, 'Eligible': True}\n"
          ]
        }
      ],
      "source": [
        "# Dictionary is a ordered collection of data items.\n",
        "\n",
        "info = {'Name':'Pavan', 'Age':21, 'Eligible':True}\n",
        "print(info)"
      ]
    },
    {
      "cell_type": "code",
      "execution_count": null,
      "id": "6e37fe3c",
      "metadata": {
        "id": "6e37fe3c",
        "outputId": "e221b846-85c8-4ba6-b0d8-848be2c01601"
      },
      "outputs": [
        {
          "name": "stdout",
          "output_type": "stream",
          "text": [
            "Pavan\n",
            "dict_values(['Pavan', 21, True])\n",
            "dict_keys(['Name', 'Age', 'Eligible'])\n",
            "dict_items([('Name', 'Pavan'), ('Age', 21), ('Eligible', True)])\n"
          ]
        }
      ],
      "source": [
        "print(info['Name'])\n",
        "\n",
        "print(info.values())\n",
        "\n",
        "print(info.keys())\n",
        "\n",
        "print(info.items())"
      ]
    },
    {
      "cell_type": "markdown",
      "id": "bb62e34b",
      "metadata": {
        "id": "bb62e34b"
      },
      "source": [
        "# Conditional Statements:\n",
        "\n",
        "We use conditional Statement for decision making.\n",
        "\n",
        "Sometimes, the programmer may want to evaluate more than one condition, this can be done using an elif statement.\n",
        "\n",
        "The conditional statements are classified into following types:\n",
        " if\n",
        " Elif\n",
        " else"
      ]
    },
    {
      "cell_type": "code",
      "execution_count": null,
      "id": "ea0b28b9",
      "metadata": {
        "id": "ea0b28b9",
        "outputId": "c5c7aafd-ad70-4b53-ee26-afb028e1c740"
      },
      "outputs": [
        {
          "name": "stdout",
          "output_type": "stream",
          "text": [
            "Number is Zero.\n"
          ]
        }
      ],
      "source": [
        "num = 0\n",
        "if (num < 0):\n",
        "    print(\"Number is negative.\")\n",
        "elif (num == 0):\n",
        "    print(\"Number is Zero.\")\n",
        "else:\n",
        "    print(\"Number is positive.\")"
      ]
    },
    {
      "cell_type": "markdown",
      "id": "dba9020e",
      "metadata": {
        "id": "dba9020e"
      },
      "source": [
        "## Loops\n",
        "\n",
        "Sometimes a programmer wants to execute a group of statements a certain number of times. This can be done using loops.\n",
        "\n",
        "Based on this loops are further classified into following main types;\n",
        "\n",
        " for loop\n",
        " while loop\n",
        "\n",
        "The for Loop\n",
        "\n",
        "for loops can iterate over a sequence of iterable objects in python.\n",
        "Iterating over a sequence is nothing but iterating over strings, lists, tuples, sets and dictionaries.\n",
        "\n",
        "The while loop\n",
        "\n",
        "As the name suggests, while loops execute statements while the condition is True.\n",
        "As soon as the condition becomes False, the interpreter comes out of the while loop.\n"
      ]
    },
    {
      "cell_type": "code",
      "execution_count": null,
      "id": "bdf6d40c",
      "metadata": {
        "id": "bdf6d40c",
        "outputId": "94c55429-aadb-4d45-c2cd-fc63ae6dd491"
      },
      "outputs": [
        {
          "name": "stdout",
          "output_type": "stream",
          "text": [
            "A\n",
            "b\n",
            "h\n",
            "i\n",
            "s\n",
            "h\n",
            "e\n",
            "k\n",
            "Red\n",
            "Green\n",
            "Blue\n",
            "Yellow\n",
            "0\n",
            "1\n",
            "2\n",
            "3\n",
            "4\n"
          ]
        }
      ],
      "source": [
        "# iterating over a string:\n",
        "\n",
        "name = 'Abhishek'\n",
        "for i in name:\n",
        "    print(i)\n",
        "\n",
        "#  iterating over a list:\n",
        "colors = [\"Red\", \"Green\", \"Blue\", \"Yellow\"]\n",
        "for x in colors:\n",
        "    print(x)\n",
        "\n",
        "#  Range (if we do not want to iterate over a sequence)\n",
        "for k in range(5):\n",
        "    print(k)"
      ]
    },
    {
      "cell_type": "code",
      "execution_count": null,
      "id": "d5642094",
      "metadata": {
        "id": "d5642094",
        "outputId": "b7e26c11-1c25-432f-bdb3-61fe6d2c9d29"
      },
      "outputs": [
        {
          "name": "stdout",
          "output_type": "stream",
          "text": [
            "5\n",
            "4\n",
            "3\n",
            "2\n",
            "1\n"
          ]
        }
      ],
      "source": [
        "count = 5\n",
        "while (count > 0):\n",
        "  print(count)\n",
        "  count = count - 1"
      ]
    },
    {
      "cell_type": "code",
      "execution_count": null,
      "id": "076abcc7",
      "metadata": {
        "id": "076abcc7",
        "outputId": "9cbd9a9d-a911-424f-b9f4-62679f707f57"
      },
      "outputs": [
        {
          "name": "stdout",
          "output_type": "stream",
          "text": [
            "1\n",
            "pavan\n",
            "akira\n",
            "10\n"
          ]
        }
      ],
      "source": [
        "list2 = [1, \"pavan\", \"akira\", 10]\n",
        "i = 0\n",
        "while (i < len(list2)):\n",
        "    print(list2[i])\n",
        "    i = i+1"
      ]
    },
    {
      "cell_type": "markdown",
      "id": "93b6a621",
      "metadata": {
        "id": "93b6a621"
      },
      "source": [
        "# Python Functions\n",
        "\n",
        "A function is a block of code that performs a specific task whenever it is called.\n",
        "\n",
        "There are two types of functions:\n",
        "\n",
        "1. Built-in functions\n",
        "\n",
        "These functions are defined and pre-coded in python. Some examples of built-in functions are as follows:\n",
        "min(), max(), len(), sum(), type(), range(), dict(), list(), tuple(), set(), print(), etc.\n",
        "\n",
        "\n",
        "2. User-defined functions\n",
        "\n",
        "We can create functions to perform specific tasks as per our needs. Such functions are called user-defined functions.\n",
        "\n",
        " Syntax:\n",
        "        def function_name(parameters):\n",
        "        \n",
        "        pass\n"
      ]
    },
    {
      "cell_type": "code",
      "execution_count": null,
      "id": "f8125502",
      "metadata": {
        "id": "f8125502",
        "outputId": "60e4fffb-5854-4e19-83ec-30a2e1387d24"
      },
      "outputs": [
        {
          "name": "stdout",
          "output_type": "stream",
          "text": [
            "11\n",
            "-1\n",
            "1500\n",
            "500\n"
          ]
        }
      ],
      "source": [
        "def add_sub(x, y):\n",
        "    c = x + y\n",
        "    d = x - y\n",
        "    print(c)\n",
        "    print(d)\n",
        "add_sub(5, 6)\n",
        "add_sub(1000,500)"
      ]
    },
    {
      "cell_type": "markdown",
      "id": "147ff4aa",
      "metadata": {
        "id": "147ff4aa"
      },
      "source": [
        "# Lambda Functions\n",
        "\n",
        "In Python, a lambda function is a small anonymous function without a name.\n",
        "\n",
        "It is defined using the lambda keyword and has the following syntax:\n",
        "\n",
        "     lambda arguments: expression\n",
        "     \n",
        "Lambda functions are often used in situations where a small function is required for a short period of time.\n",
        "\n",
        "They are commonly used as arguments to higher-order functions, such as map, filter, and reduce.\n"
      ]
    },
    {
      "cell_type": "code",
      "execution_count": null,
      "id": "0827041e",
      "metadata": {
        "id": "0827041e",
        "outputId": "2ee7da1b-3289-41f0-c3f8-482be5d2fb3c"
      },
      "outputs": [
        {
          "name": "stdout",
          "output_type": "stream",
          "text": [
            "25\n",
            "125\n"
          ]
        }
      ],
      "source": [
        "# Lamba fuction are small  anonymous function without a name.\n",
        "# It is defined using a lambda keyword and has the following syntax.\n",
        "# lamba arguments: expression\n",
        "# lamba functions can have multiple arguments.\n",
        "\n",
        "double = lambda x: x*x\n",
        "print(double(5))\n",
        "\n",
        "cube = lambda x:x*x*x\n",
        "print(cube(5))"
      ]
    },
    {
      "cell_type": "markdown",
      "id": "b182a9cc",
      "metadata": {
        "id": "b182a9cc"
      },
      "source": [
        "# Map()\n",
        "\n",
        "You use the map() function whenever you want to modify every value in an iterable."
      ]
    },
    {
      "cell_type": "code",
      "execution_count": null,
      "id": "cab5f399",
      "metadata": {
        "id": "cab5f399",
        "outputId": "09b0302c-aa03-45e3-f9e5-65cd52a9c9d6"
      },
      "outputs": [
        {
          "name": "stdout",
          "output_type": "stream",
          "text": [
            "[4, 9, 16, 25]\n"
          ]
        }
      ],
      "source": [
        "list1 = [2, 3, 4, 5]\n",
        "\n",
        "a = list(map(lambda x: pow(x, 2), list1))\n",
        "\n",
        "print(a)"
      ]
    },
    {
      "cell_type": "markdown",
      "id": "8fe1811c",
      "metadata": {
        "id": "8fe1811c"
      },
      "source": [
        "# Filter()\n",
        "When you want to focus on specific values in an iterable, you can use the filter function."
      ]
    },
    {
      "cell_type": "code",
      "execution_count": null,
      "id": "b4b2dec4",
      "metadata": {
        "id": "b4b2dec4",
        "outputId": "1ad2d09a-1c41-4609-ac4f-2681d20a270e"
      },
      "outputs": [
        {
          "name": "stdout",
          "output_type": "stream",
          "text": [
            "[2, 4, 6, 8, 10]\n"
          ]
        }
      ],
      "source": [
        "list1 = [1, 2, 3, 4, 5, 6, 7, 8, 9, 10]\n",
        "\n",
        "b = list(filter(lambda x: x % 2 == 0, list1))\n",
        "\n",
        "print(b)"
      ]
    },
    {
      "cell_type": "markdown",
      "id": "fa1929cc",
      "metadata": {
        "id": "fa1929cc"
      },
      "source": [
        "## List Comprehension:\n",
        "    \n",
        "list comprehension is used to create powerful functionality within a single line of code.\n",
        "\n",
        "List comprehension offers a shorter syntax when you want to create a new list based on the values of an existing list.\n",
        "\n",
        "Syntax: newlist = [expression for item in iterable if condition == True]\n",
        "\n",
        "The return value is a new list, leaving the old list unchanged."
      ]
    },
    {
      "cell_type": "code",
      "execution_count": null,
      "id": "1bf28757",
      "metadata": {
        "id": "1bf28757",
        "outputId": "877b4d23-9f22-476a-d533-b565bef6a29f"
      },
      "outputs": [
        {
          "name": "stdout",
          "output_type": "stream",
          "text": [
            "[0, 1, 4, 9, 16, 25, 36, 49, 64, 81]\n",
            "[0, 1, 4, 9, 16, 25, 36, 49, 64, 81]\n"
          ]
        }
      ],
      "source": [
        "# Instantiate an empty list.\n",
        "# Loop over an iterable or range of elements.\n",
        "# Append each element to the end of the list.\n",
        "\n",
        "square = []\n",
        "for i in range(10):\n",
        "    square.append(i*i)\n",
        "print(square)\n",
        "\n",
        "squares = [i * i for i in range(10)]\n",
        "print(squares)"
      ]
    },
    {
      "cell_type": "markdown",
      "id": "37384fbb",
      "metadata": {
        "id": "37384fbb"
      },
      "source": [
        "# Thank You"
      ]
    }
  ],
  "metadata": {
    "kernelspec": {
      "display_name": "Python 3 (ipykernel)",
      "language": "python",
      "name": "python3"
    },
    "language_info": {
      "codemirror_mode": {
        "name": "ipython",
        "version": 3
      },
      "file_extension": ".py",
      "mimetype": "text/x-python",
      "name": "python",
      "nbconvert_exporter": "python",
      "pygments_lexer": "ipython3",
      "version": "3.9.13"
    },
    "colab": {
      "provenance": [],
      "include_colab_link": true
    }
  },
  "nbformat": 4,
  "nbformat_minor": 5
}